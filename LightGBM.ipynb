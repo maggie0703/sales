{
 "cells": [
  {
   "cell_type": "code",
   "execution_count": 1,
   "metadata": {},
   "outputs": [],
   "source": [
    "import numpy as np \n",
    "import pandas as pd\n",
    "import seaborn as sns\n",
    "import matplotlib.pyplot as plt\n",
    "import os.path\n",
    "from sklearn.metrics import mean_squared_error\n",
    "from math import sqrt\n",
    "import gc"
   ]
  },
  {
   "cell_type": "code",
   "execution_count": 2,
   "metadata": {},
   "outputs": [],
   "source": [
    "def downcast_dtypes(df):\n",
    "    float_cols = [c for c in df if df[c].dtype == \"float64\"]\n",
    "    int_cols =   [c for c in df if df[c].dtype == \"int64\"]\n",
    "    \n",
    "    # Downcast\n",
    "    df[float_cols] = df[float_cols].astype(np.float32)\n",
    "    df[int_cols]   = df[int_cols].astype(np.int32)\n",
    "    \n",
    "    return df"
   ]
  },
  {
   "cell_type": "code",
   "execution_count": 3,
   "metadata": {},
   "outputs": [],
   "source": [
    "PWD = r\"C:\\Users\\Desktop\\Sales\"\n",
    "preprocessed_data_file = \"all_data_lag.csv\"\n",
    "test_file = os.path.join(PWD, \"test.csv\")\n",
    "\n",
    "test_df = pd.read_csv(test_file)\n",
    "all_data = pd.read_csv(os.path.join(PWD, preprocessed_data_file))\n",
    "all_data = downcast_dtypes(all_data)"
   ]
  },
  {
   "cell_type": "code",
   "execution_count": 4,
   "metadata": {},
   "outputs": [],
   "source": [
    "def rmse(vec1, vec2):\n",
    "    return sqrt(mean_squared_error(vec1, vec2))"
   ]
  },
  {
   "cell_type": "code",
   "execution_count": 5,
   "metadata": {},
   "outputs": [
    {
     "data": {
      "text/html": [
       "<div>\n",
       "<style scoped>\n",
       "    .dataframe tbody tr th:only-of-type {\n",
       "        vertical-align: middle;\n",
       "    }\n",
       "\n",
       "    .dataframe tbody tr th {\n",
       "        vertical-align: top;\n",
       "    }\n",
       "\n",
       "    .dataframe thead th {\n",
       "        text-align: right;\n",
       "    }\n",
       "</style>\n",
       "<table border=\"1\" class=\"dataframe\">\n",
       "  <thead>\n",
       "    <tr style=\"text-align: right;\">\n",
       "      <th></th>\n",
       "      <th>shop_id</th>\n",
       "      <th>item_id</th>\n",
       "      <th>date_block_num</th>\n",
       "      <th>target</th>\n",
       "      <th>target_lag-01</th>\n",
       "      <th>target_shop_lag-01</th>\n",
       "      <th>target_item_lag-01</th>\n",
       "      <th>target_lag-02</th>\n",
       "      <th>target_shop_lag-02</th>\n",
       "      <th>target_item_lag-02</th>\n",
       "      <th>...</th>\n",
       "      <th>date_shop_avg_target_lag-02</th>\n",
       "      <th>date_shop_avg_target_lag-03</th>\n",
       "      <th>date_shop_avg_target_lag-06</th>\n",
       "      <th>date_shop_avg_target_lag-12</th>\n",
       "      <th>date_item_category_avg_target_lag-01</th>\n",
       "      <th>date_shop_item_category_avg_target_lag-01</th>\n",
       "      <th>item_shop_first_sale</th>\n",
       "      <th>item_first_sale</th>\n",
       "      <th>month</th>\n",
       "      <th>days</th>\n",
       "    </tr>\n",
       "  </thead>\n",
       "  <tbody>\n",
       "    <tr>\n",
       "      <th>0</th>\n",
       "      <td>54</td>\n",
       "      <td>10297</td>\n",
       "      <td>12</td>\n",
       "      <td>4.0</td>\n",
       "      <td>3.0</td>\n",
       "      <td>10055.0</td>\n",
       "      <td>42.0</td>\n",
       "      <td>0.0</td>\n",
       "      <td>7978.0</td>\n",
       "      <td>2.0</td>\n",
       "      <td>...</td>\n",
       "      <td>0.9863</td>\n",
       "      <td>0.0000</td>\n",
       "      <td>0.0000</td>\n",
       "      <td>0.0</td>\n",
       "      <td>0.2340</td>\n",
       "      <td>0.6010</td>\n",
       "      <td>2</td>\n",
       "      <td>2</td>\n",
       "      <td>0</td>\n",
       "      <td>31</td>\n",
       "    </tr>\n",
       "    <tr>\n",
       "      <th>1</th>\n",
       "      <td>54</td>\n",
       "      <td>10296</td>\n",
       "      <td>12</td>\n",
       "      <td>3.0</td>\n",
       "      <td>0.0</td>\n",
       "      <td>10055.0</td>\n",
       "      <td>24.0</td>\n",
       "      <td>0.0</td>\n",
       "      <td>0.0</td>\n",
       "      <td>0.0</td>\n",
       "      <td>...</td>\n",
       "      <td>0.0000</td>\n",
       "      <td>0.0000</td>\n",
       "      <td>0.0000</td>\n",
       "      <td>0.0</td>\n",
       "      <td>0.2438</td>\n",
       "      <td>0.5520</td>\n",
       "      <td>1</td>\n",
       "      <td>1</td>\n",
       "      <td>0</td>\n",
       "      <td>31</td>\n",
       "    </tr>\n",
       "    <tr>\n",
       "      <th>2</th>\n",
       "      <td>54</td>\n",
       "      <td>10298</td>\n",
       "      <td>12</td>\n",
       "      <td>14.0</td>\n",
       "      <td>21.0</td>\n",
       "      <td>10055.0</td>\n",
       "      <td>369.0</td>\n",
       "      <td>119.0</td>\n",
       "      <td>7978.0</td>\n",
       "      <td>1309.0</td>\n",
       "      <td>...</td>\n",
       "      <td>0.9863</td>\n",
       "      <td>0.8306</td>\n",
       "      <td>0.0000</td>\n",
       "      <td>0.0</td>\n",
       "      <td>0.3090</td>\n",
       "      <td>0.9520</td>\n",
       "      <td>3</td>\n",
       "      <td>3</td>\n",
       "      <td>0</td>\n",
       "      <td>31</td>\n",
       "    </tr>\n",
       "    <tr>\n",
       "      <th>3</th>\n",
       "      <td>54</td>\n",
       "      <td>10300</td>\n",
       "      <td>12</td>\n",
       "      <td>3.0</td>\n",
       "      <td>1.0</td>\n",
       "      <td>10055.0</td>\n",
       "      <td>54.0</td>\n",
       "      <td>31.0</td>\n",
       "      <td>7978.0</td>\n",
       "      <td>361.0</td>\n",
       "      <td>...</td>\n",
       "      <td>0.9863</td>\n",
       "      <td>0.8306</td>\n",
       "      <td>0.0000</td>\n",
       "      <td>0.0</td>\n",
       "      <td>0.2340</td>\n",
       "      <td>0.6010</td>\n",
       "      <td>3</td>\n",
       "      <td>3</td>\n",
       "      <td>0</td>\n",
       "      <td>31</td>\n",
       "    </tr>\n",
       "    <tr>\n",
       "      <th>4</th>\n",
       "      <td>54</td>\n",
       "      <td>10284</td>\n",
       "      <td>12</td>\n",
       "      <td>1.0</td>\n",
       "      <td>0.0</td>\n",
       "      <td>10055.0</td>\n",
       "      <td>4.0</td>\n",
       "      <td>0.0</td>\n",
       "      <td>7978.0</td>\n",
       "      <td>3.0</td>\n",
       "      <td>...</td>\n",
       "      <td>0.9863</td>\n",
       "      <td>0.8306</td>\n",
       "      <td>0.8594</td>\n",
       "      <td>0.0</td>\n",
       "      <td>0.1383</td>\n",
       "      <td>0.4553</td>\n",
       "      <td>10</td>\n",
       "      <td>10</td>\n",
       "      <td>0</td>\n",
       "      <td>31</td>\n",
       "    </tr>\n",
       "  </tbody>\n",
       "</table>\n",
       "<p>5 rows × 38 columns</p>\n",
       "</div>"
      ],
      "text/plain": [
       "   shop_id  item_id  date_block_num  target  target_lag-01  \\\n",
       "0       54    10297              12     4.0            3.0   \n",
       "1       54    10296              12     3.0            0.0   \n",
       "2       54    10298              12    14.0           21.0   \n",
       "3       54    10300              12     3.0            1.0   \n",
       "4       54    10284              12     1.0            0.0   \n",
       "\n",
       "   target_shop_lag-01  target_item_lag-01  target_lag-02  target_shop_lag-02  \\\n",
       "0             10055.0                42.0            0.0              7978.0   \n",
       "1             10055.0                24.0            0.0                 0.0   \n",
       "2             10055.0               369.0          119.0              7978.0   \n",
       "3             10055.0                54.0           31.0              7978.0   \n",
       "4             10055.0                 4.0            0.0              7978.0   \n",
       "\n",
       "   target_item_lag-02  ...   date_shop_avg_target_lag-02  \\\n",
       "0                 2.0  ...                        0.9863   \n",
       "1                 0.0  ...                        0.0000   \n",
       "2              1309.0  ...                        0.9863   \n",
       "3               361.0  ...                        0.9863   \n",
       "4                 3.0  ...                        0.9863   \n",
       "\n",
       "   date_shop_avg_target_lag-03  date_shop_avg_target_lag-06  \\\n",
       "0                       0.0000                       0.0000   \n",
       "1                       0.0000                       0.0000   \n",
       "2                       0.8306                       0.0000   \n",
       "3                       0.8306                       0.0000   \n",
       "4                       0.8306                       0.8594   \n",
       "\n",
       "   date_shop_avg_target_lag-12  date_item_category_avg_target_lag-01  \\\n",
       "0                          0.0                                0.2340   \n",
       "1                          0.0                                0.2438   \n",
       "2                          0.0                                0.3090   \n",
       "3                          0.0                                0.2340   \n",
       "4                          0.0                                0.1383   \n",
       "\n",
       "   date_shop_item_category_avg_target_lag-01  item_shop_first_sale  \\\n",
       "0                                     0.6010                     2   \n",
       "1                                     0.5520                     1   \n",
       "2                                     0.9520                     3   \n",
       "3                                     0.6010                     3   \n",
       "4                                     0.4553                    10   \n",
       "\n",
       "   item_first_sale  month  days  \n",
       "0                2      0    31  \n",
       "1                1      0    31  \n",
       "2                3      0    31  \n",
       "3                3      0    31  \n",
       "4               10      0    31  \n",
       "\n",
       "[5 rows x 38 columns]"
      ]
     },
     "execution_count": 5,
     "metadata": {},
     "output_type": "execute_result"
    }
   ],
   "source": [
    "all_data.head()"
   ]
  },
  {
   "cell_type": "code",
   "execution_count": 6,
   "metadata": {},
   "outputs": [],
   "source": [
    "target_date = 34"
   ]
  },
  {
   "cell_type": "code",
   "execution_count": 7,
   "metadata": {},
   "outputs": [],
   "source": [
    "val_date = 33"
   ]
  },
  {
   "cell_type": "code",
   "execution_count": 8,
   "metadata": {},
   "outputs": [],
   "source": [
    "train_X = all_data[all_data[\"date_block_num\"] < val_date].copy()\n",
    "train_y = train_X[\"target\"]\n",
    "train_X_date_block_num = train_X[\"date_block_num\"]\n",
    "train_X.drop([\"target\", \"date_block_num\"], axis=1, inplace=True)"
   ]
  },
  {
   "cell_type": "code",
   "execution_count": 9,
   "metadata": {},
   "outputs": [],
   "source": [
    "test_X = all_data[all_data['date_block_num'] == target_date].copy()\n",
    "test_X.head()\n",
    "test_X.drop([\"target\", \"date_block_num\"], axis=1, inplace=True)"
   ]
  },
  {
   "cell_type": "code",
   "execution_count": 10,
   "metadata": {},
   "outputs": [],
   "source": [
    "val_X = all_data[all_data[\"date_block_num\"] == val_date].copy()\n",
    "val_y = val_X[\"target\"]\n",
    "val_X_date_block_num = val_X[\"date_block_num\"]\n",
    "val_X.drop([\"target\", \"date_block_num\"], axis=1, inplace=True)"
   ]
  },
  {
   "cell_type": "code",
   "execution_count": 11,
   "metadata": {},
   "outputs": [],
   "source": [
    "cate_cols = [\"shop_id\",\n",
    "             \"item_id\",             \n",
    "             \"item_category_id\",\n",
    "             \"month\",\n",
    "             \"days\"]\n",
    "             \n",
    "lgbm_categorical_feature_str = \"name:{}\".format(','.join(cate_cols))"
   ]
  },
  {
   "cell_type": "code",
   "execution_count": 12,
   "metadata": {},
   "outputs": [],
   "source": [
    "import lightgbm as lgb\n"
   ]
  },
  {
   "cell_type": "code",
   "execution_count": 13,
   "metadata": {},
   "outputs": [],
   "source": [
    "lgb_params = {\n",
    "    'max_depth' : 8,\n",
    "    'n_estimators' : 1000,\n",
    "    'min_child_weight' : 300, \n",
    "    'colsample_bytree' : 0.8, \n",
    "    'subsample' : 0.8, \n",
    "    'eta' : 0.1,\n",
    "    'verbose' : 1,\n",
    "    'seed' : 42,\n",
    "    'nthread' : 4,\n",
    "    'early_stopping_round':10,\n",
    "    'metric' : 'rmse',\n",
    "    'objective' : 'regression'\n",
    "}"
   ]
  },
  {
   "cell_type": "code",
   "execution_count": 14,
   "metadata": {},
   "outputs": [],
   "source": [
    "lgb_train_data = lgb.Dataset(train_X, train_y.clip(0,20))\n",
    "lgb_val_data = lgb.Dataset(val_X, val_y, reference=lgb_train_data)"
   ]
  },
  {
   "cell_type": "code",
   "execution_count": 15,
   "metadata": {},
   "outputs": [
    {
     "name": "stderr",
     "output_type": "stream",
     "text": [
      "/usr/local/lib/python3.5/dist-packages/lightgbm/engine.py:102: UserWarning: Found `n_estimators` in params. Will use it instead of argument\n",
      "  warnings.warn(\"Found `{}` in params. Will use it instead of argument\".format(alias))\n",
      "/usr/local/lib/python3.5/dist-packages/lightgbm/engine.py:107: UserWarning: Found `early_stopping_round` in params. Will use it instead of argument\n",
      "  warnings.warn(\"Found `{}` in params. Will use it instead of argument\".format(alias))\n"
     ]
    },
    {
     "name": "stdout",
     "output_type": "stream",
     "text": [
      "[1]\tvalid_0's rmse: 2.66897\n",
      "Training until validation scores don't improve for 10 rounds.\n",
      "[2]\tvalid_0's rmse: 2.64579\n",
      "[3]\tvalid_0's rmse: 2.62633\n",
      "[4]\tvalid_0's rmse: 2.60988\n",
      "[5]\tvalid_0's rmse: 2.59605\n",
      "[6]\tvalid_0's rmse: 2.58468\n",
      "[7]\tvalid_0's rmse: 2.57319\n",
      "[8]\tvalid_0's rmse: 2.56343\n",
      "[9]\tvalid_0's rmse: 2.55538\n",
      "[10]\tvalid_0's rmse: 2.54866\n",
      "[11]\tvalid_0's rmse: 2.54241\n",
      "[12]\tvalid_0's rmse: 2.53661\n",
      "[13]\tvalid_0's rmse: 2.53108\n",
      "[14]\tvalid_0's rmse: 2.52627\n",
      "[15]\tvalid_0's rmse: 2.52167\n",
      "[16]\tvalid_0's rmse: 2.51862\n",
      "[17]\tvalid_0's rmse: 2.51488\n",
      "[18]\tvalid_0's rmse: 2.51185\n",
      "[19]\tvalid_0's rmse: 2.50944\n",
      "[20]\tvalid_0's rmse: 2.50735\n",
      "[21]\tvalid_0's rmse: 2.50556\n",
      "[22]\tvalid_0's rmse: 2.50358\n",
      "[23]\tvalid_0's rmse: 2.50152\n",
      "[24]\tvalid_0's rmse: 2.49929\n",
      "[25]\tvalid_0's rmse: 2.49836\n",
      "[26]\tvalid_0's rmse: 2.49752\n",
      "[27]\tvalid_0's rmse: 2.49629\n",
      "[28]\tvalid_0's rmse: 2.49538\n",
      "[29]\tvalid_0's rmse: 2.49485\n",
      "[30]\tvalid_0's rmse: 2.49409\n",
      "[31]\tvalid_0's rmse: 2.49319\n",
      "[32]\tvalid_0's rmse: 2.49215\n",
      "[33]\tvalid_0's rmse: 2.49129\n",
      "[34]\tvalid_0's rmse: 2.49074\n",
      "[35]\tvalid_0's rmse: 2.49021\n",
      "[36]\tvalid_0's rmse: 2.48909\n",
      "[37]\tvalid_0's rmse: 2.48843\n",
      "[38]\tvalid_0's rmse: 2.48782\n",
      "[39]\tvalid_0's rmse: 2.48777\n",
      "[40]\tvalid_0's rmse: 2.48707\n",
      "[41]\tvalid_0's rmse: 2.48689\n",
      "[42]\tvalid_0's rmse: 2.4866\n",
      "[43]\tvalid_0's rmse: 2.48597\n",
      "[44]\tvalid_0's rmse: 2.48569\n",
      "[45]\tvalid_0's rmse: 2.48547\n",
      "[46]\tvalid_0's rmse: 2.48508\n",
      "[47]\tvalid_0's rmse: 2.48472\n",
      "[48]\tvalid_0's rmse: 2.4845\n",
      "[49]\tvalid_0's rmse: 2.48397\n",
      "[50]\tvalid_0's rmse: 2.48324\n",
      "[51]\tvalid_0's rmse: 2.4833\n",
      "[52]\tvalid_0's rmse: 2.48358\n",
      "[53]\tvalid_0's rmse: 2.48346\n",
      "[54]\tvalid_0's rmse: 2.48316\n",
      "[55]\tvalid_0's rmse: 2.4829\n",
      "[56]\tvalid_0's rmse: 2.48233\n",
      "[57]\tvalid_0's rmse: 2.48209\n",
      "[58]\tvalid_0's rmse: 2.48197\n",
      "[59]\tvalid_0's rmse: 2.48106\n",
      "[60]\tvalid_0's rmse: 2.48093\n",
      "[61]\tvalid_0's rmse: 2.48063\n",
      "[62]\tvalid_0's rmse: 2.48057\n",
      "[63]\tvalid_0's rmse: 2.47998\n",
      "[64]\tvalid_0's rmse: 2.47958\n",
      "[65]\tvalid_0's rmse: 2.47971\n",
      "[66]\tvalid_0's rmse: 2.47961\n",
      "[67]\tvalid_0's rmse: 2.47941\n",
      "[68]\tvalid_0's rmse: 2.47925\n",
      "[69]\tvalid_0's rmse: 2.47924\n",
      "[70]\tvalid_0's rmse: 2.47919\n",
      "[71]\tvalid_0's rmse: 2.47893\n",
      "[72]\tvalid_0's rmse: 2.47883\n",
      "[73]\tvalid_0's rmse: 2.47918\n",
      "[74]\tvalid_0's rmse: 2.47891\n",
      "[75]\tvalid_0's rmse: 2.47857\n",
      "[76]\tvalid_0's rmse: 2.47836\n",
      "[77]\tvalid_0's rmse: 2.47846\n",
      "[78]\tvalid_0's rmse: 2.47811\n",
      "[79]\tvalid_0's rmse: 2.47845\n",
      "[80]\tvalid_0's rmse: 2.47829\n",
      "[81]\tvalid_0's rmse: 2.47771\n",
      "[82]\tvalid_0's rmse: 2.47772\n",
      "[83]\tvalid_0's rmse: 2.47747\n",
      "[84]\tvalid_0's rmse: 2.47684\n",
      "[85]\tvalid_0's rmse: 2.47669\n",
      "[86]\tvalid_0's rmse: 2.47661\n",
      "[87]\tvalid_0's rmse: 2.47666\n",
      "[88]\tvalid_0's rmse: 2.47662\n",
      "[89]\tvalid_0's rmse: 2.47661\n",
      "[90]\tvalid_0's rmse: 2.47657\n",
      "[91]\tvalid_0's rmse: 2.4766\n",
      "[92]\tvalid_0's rmse: 2.47656\n",
      "[93]\tvalid_0's rmse: 2.47633\n",
      "[94]\tvalid_0's rmse: 2.47636\n",
      "[95]\tvalid_0's rmse: 2.47648\n",
      "[96]\tvalid_0's rmse: 2.47642\n",
      "[97]\tvalid_0's rmse: 2.47642\n",
      "[98]\tvalid_0's rmse: 2.47641\n",
      "[99]\tvalid_0's rmse: 2.47524\n",
      "[100]\tvalid_0's rmse: 2.47529\n",
      "[101]\tvalid_0's rmse: 2.47519\n",
      "[102]\tvalid_0's rmse: 2.4752\n",
      "[103]\tvalid_0's rmse: 2.47539\n",
      "[104]\tvalid_0's rmse: 2.4753\n",
      "[105]\tvalid_0's rmse: 2.47518\n",
      "[106]\tvalid_0's rmse: 2.47511\n",
      "[107]\tvalid_0's rmse: 2.47501\n",
      "[108]\tvalid_0's rmse: 2.47505\n",
      "[109]\tvalid_0's rmse: 2.47506\n",
      "[110]\tvalid_0's rmse: 2.47499\n",
      "[111]\tvalid_0's rmse: 2.47477\n",
      "[112]\tvalid_0's rmse: 2.47472\n",
      "[113]\tvalid_0's rmse: 2.47462\n",
      "[114]\tvalid_0's rmse: 2.47421\n",
      "[115]\tvalid_0's rmse: 2.47392\n",
      "[116]\tvalid_0's rmse: 2.47382\n",
      "[117]\tvalid_0's rmse: 2.47372\n",
      "[118]\tvalid_0's rmse: 2.47359\n",
      "[119]\tvalid_0's rmse: 2.47352\n",
      "[120]\tvalid_0's rmse: 2.47355\n",
      "[121]\tvalid_0's rmse: 2.47352\n",
      "[122]\tvalid_0's rmse: 2.47349\n",
      "[123]\tvalid_0's rmse: 2.47342\n",
      "[124]\tvalid_0's rmse: 2.47331\n",
      "[125]\tvalid_0's rmse: 2.47331\n",
      "[126]\tvalid_0's rmse: 2.47331\n",
      "[127]\tvalid_0's rmse: 2.47325\n",
      "[128]\tvalid_0's rmse: 2.47332\n",
      "[129]\tvalid_0's rmse: 2.47338\n",
      "[130]\tvalid_0's rmse: 2.47338\n",
      "[131]\tvalid_0's rmse: 2.47341\n",
      "[132]\tvalid_0's rmse: 2.47345\n",
      "[133]\tvalid_0's rmse: 2.47351\n",
      "[134]\tvalid_0's rmse: 2.47363\n",
      "[135]\tvalid_0's rmse: 2.47358\n",
      "[136]\tvalid_0's rmse: 2.47347\n",
      "[137]\tvalid_0's rmse: 2.47343\n",
      "Early stopping, best iteration is:\n",
      "[127]\tvalid_0's rmse: 2.47325\n"
     ]
    }
   ],
   "source": [
    "evals_result = {} # for plotting\n",
    "lgb_model = lgb.train(lgb_params, lgb_train_data, 300, \n",
    "                      valid_sets=lgb_val_data, \n",
    "                      verbose_eval=True, evals_result=evals_result)"
   ]
  },
  {
   "cell_type": "code",
   "execution_count": 16,
   "metadata": {},
   "outputs": [],
   "source": [
    "lgb_pred_val_y = lgb_model.predict(val_X)"
   ]
  },
  {
   "cell_type": "code",
   "execution_count": 17,
   "metadata": {},
   "outputs": [
    {
     "name": "stdout",
     "output_type": "stream",
     "text": [
      "RMSE: 0.9043416440413741\n"
     ]
    }
   ],
   "source": [
    "r = rmse(lgb_pred_val_y.clip(0,20), val_y.values.clip(0,20))\n",
    "print(\"RMSE:\", r)"
   ]
  },
  {
   "cell_type": "code",
   "execution_count": 18,
   "metadata": {},
   "outputs": [
    {
     "name": "stdout",
     "output_type": "stream",
     "text": [
      "best iteration: 127\n"
     ]
    }
   ],
   "source": [
    "best_iteration = lgb_model.current_iteration()\n",
    "print(\"best iteration:\", best_iteration)"
   ]
  },
  {
   "cell_type": "code",
   "execution_count": 19,
   "metadata": {},
   "outputs": [
    {
     "data": {
      "text/html": [
       "<div>\n",
       "<style scoped>\n",
       "    .dataframe tbody tr th:only-of-type {\n",
       "        vertical-align: middle;\n",
       "    }\n",
       "\n",
       "    .dataframe tbody tr th {\n",
       "        vertical-align: top;\n",
       "    }\n",
       "\n",
       "    .dataframe thead th {\n",
       "        text-align: right;\n",
       "    }\n",
       "</style>\n",
       "<table border=\"1\" class=\"dataframe\">\n",
       "  <thead>\n",
       "    <tr style=\"text-align: right;\">\n",
       "      <th></th>\n",
       "      <th>target</th>\n",
       "      <th>gbm</th>\n",
       "    </tr>\n",
       "  </thead>\n",
       "  <tbody>\n",
       "    <tr>\n",
       "      <th>0</th>\n",
       "      <td>1.0</td>\n",
       "      <td>0.003950</td>\n",
       "    </tr>\n",
       "    <tr>\n",
       "      <th>1</th>\n",
       "      <td>1.0</td>\n",
       "      <td>0.671648</td>\n",
       "    </tr>\n",
       "    <tr>\n",
       "      <th>2</th>\n",
       "      <td>2.0</td>\n",
       "      <td>0.461039</td>\n",
       "    </tr>\n",
       "    <tr>\n",
       "      <th>3</th>\n",
       "      <td>1.0</td>\n",
       "      <td>0.110168</td>\n",
       "    </tr>\n",
       "    <tr>\n",
       "      <th>4</th>\n",
       "      <td>1.0</td>\n",
       "      <td>0.685280</td>\n",
       "    </tr>\n",
       "  </tbody>\n",
       "</table>\n",
       "</div>"
      ],
      "text/plain": [
       "   target       gbm\n",
       "0     1.0  0.003950\n",
       "1     1.0  0.671648\n",
       "2     2.0  0.461039\n",
       "3     1.0  0.110168\n",
       "4     1.0  0.685280"
      ]
     },
     "execution_count": 19,
     "metadata": {},
     "output_type": "execute_result"
    }
   ],
   "source": [
    "a = np.hstack([val_y.values.reshape(-1,1), lgb_pred_val_y.reshape(-1,1)])\n",
    "\n",
    "level2_train_df = pd.DataFrame(a, columns=[\"target\", \"gbm\"])\n",
    "level2_train_df.head()"
   ]
  },
  {
   "cell_type": "code",
   "execution_count": 20,
   "metadata": {},
   "outputs": [],
   "source": [
    "level2_train_df.to_csv('level2_train_gbm.csv', index=False)"
   ]
  },
  {
   "cell_type": "code",
   "execution_count": 21,
   "metadata": {},
   "outputs": [],
   "source": [
    "train_X = all_data[all_data[\"date_block_num\"] < target_date].copy()\n",
    "train_y = train_X[\"target\"]\n",
    "train_X_date_block_num = train_X[\"date_block_num\"]\n",
    "train_X.drop([\"target\", \"date_block_num\"], axis=1, inplace=True)"
   ]
  },
  {
   "cell_type": "code",
   "execution_count": 22,
   "metadata": {},
   "outputs": [
    {
     "data": {
      "text/plain": [
       "74"
      ]
     },
     "execution_count": 22,
     "metadata": {},
     "output_type": "execute_result"
    }
   ],
   "source": [
    "all_data = None\n",
    "val_X = None\n",
    "val_y = None\n",
    "gc.collect()"
   ]
  },
  {
   "cell_type": "code",
   "execution_count": 23,
   "metadata": {},
   "outputs": [],
   "source": [
    "lgb_train_ds = lgb.Dataset(train_X, train_y)\n",
    "lgb_model = lgb.train(lgb_params, lgb_train_ds, best_iteration)\n",
    "lgb_pred_y = lgb_model.predict(test_X)"
   ]
  },
  {
   "cell_type": "code",
   "execution_count": 24,
   "metadata": {},
   "outputs": [],
   "source": [
    "lgb_pred_y_df = pd.DataFrame(lgb_pred_y.clip(0,20))\n",
    "lgb_pred_y_df.columns = [\"item_cnt_month\"]\n",
    "lgb_pred_y_df.to_csv(\"lgb_gbm_prediction.csv\", header=True, index=True, index_label=\"ID\")"
   ]
  },
  {
   "cell_type": "code",
   "execution_count": 25,
   "metadata": {},
   "outputs": [
    {
     "data": {
      "text/plain": [
       "<matplotlib.axes._subplots.AxesSubplot at 0x7f0509fe2240>"
      ]
     },
     "execution_count": 25,
     "metadata": {},
     "output_type": "execute_result"
    },
    {
     "data": {
      "image/png": "[encoded data removed]",
      "text/plain": [
       "<Figure size 720x1008 with 1 Axes>"
      ]
     },
     "metadata": {},
     "output_type": "display_data"
    }
   ],
   "source": [
    "def plot_features(booster, figsize):    \n",
    "    fig, ax = plt.subplots(1,1,figsize=figsize)\n",
    "    return lgb.plot_importance(booster=booster, ax=ax)\n",
    "\n",
    "plot_features(lgb_model, (10,14))"
   ]
  }
 ],
 "metadata": {
  "kernelspec": {
   "display_name": "Python 3",
   "language": "python",
   "name": "python3"
  },
  "language_info": {
   "codemirror_mode": {
    "name": "ipython",
    "version": 3
   },
   "file_extension": ".py",
   "mimetype": "text/x-python",
   "name": "python",
   "nbconvert_exporter": "python",
   "pygments_lexer": "ipython3",
   "version": "3.6.5"
  }
 },
 "nbformat": 4,
 "nbformat_minor": 2
}
